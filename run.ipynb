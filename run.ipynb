{
 "cells": [
  {
   "cell_type": "code",
   "execution_count": null,
   "metadata": {},
   "outputs": [],
   "source": [
    "import json\n",
    "import torch\n",
    "import numpy as np\n",
    "\n",
    "from geo_graphnet.methods.hom_methods import SemiSupervisedPred, disclaimer \n",
    "from geo_graphnet.data_handling.config_handlers import GeoGraphConfig\n",
    "from geo_graphnet.data_handling.graph_loading import load_homo_graph\n",
    "print(disclaimer)"
   ]
  },
  {
   "cell_type": "code",
   "execution_count": null,
   "metadata": {},
   "outputs": [],
   "source": [
    "graph = load_homo_graph(node_file=r'data\\homo_graphs\\real_nodes.csv', edge_file=r'data\\homo_graphs\\real_edges_lattice.csv')\n",
    "graph.ndata['train'] = torch.Tensor([True if x in np.unique(graph.ndata['Line'].numpy())[::2] else False for x in graph.ndata['Line'].numpy()])"
   ]
  },
  {
   "cell_type": "code",
   "execution_count": null,
   "metadata": {},
   "outputs": [],
   "source": [
    "# config for the data\n",
    "with open(r'C:\\Users\\bogo\\Desktop\\code\\geo_graphnet\\configs\\data.json', \"r\") as read_file:\n",
    "    data = json.load(read_file)\n",
    "data_config = GeoGraphConfig.from_data_config(data)\n",
    "\n",
    "#config for the method\n",
    "with open(r'C:\\Users\\bogo\\Desktop\\code\\geo_graphnet\\configs\\method.json', \"r\") as read_file:\n",
    "    data = json.load(read_file)\n",
    "method_config = GeoGraphConfig.from_method_config(data)\n",
    "\n",
    "#config for the model\n",
    "with open(r'C:\\Users\\bogo\\Desktop\\code\\geo_graphnet\\configs\\model.json', \"r\") as read_file:\n",
    "    data = json.load(read_file)"
   ]
  },
  {
   "cell_type": "code",
   "execution_count": null,
   "metadata": {},
   "outputs": [],
   "source": [
    "# using method.run_exp() does the number of epochs and run entire experiment in one shot\n",
    "model_config = GeoGraphConfig.from_model_config(data)\n",
    "\n",
    "method = SemiSupervisedPred(graph, data_config, model_config, method_config)\n",
    "metrics, graph, configs = method.run_exp()"
   ]
  },
  {
   "cell_type": "code",
   "execution_count": null,
   "metadata": {},
   "outputs": [],
   "source": [
    "# using method.run_iter() does a signle epoch returns \n",
    "model_config = GeoGraphConfig.from_model_config(data)\n",
    "method = SemiSupervisedPred(graph, data_config, model_config, method_config)\n",
    "\n",
    "for i in range(10):\n",
    "    method.run_iter(i)"
   ]
  }
 ],
 "metadata": {
  "kernelspec": {
   "display_name": ".venv",
   "language": "python",
   "name": "python3"
  },
  "language_info": {
   "codemirror_mode": {
    "name": "ipython",
    "version": 3
   },
   "file_extension": ".py",
   "mimetype": "text/x-python",
   "name": "python",
   "nbconvert_exporter": "python",
   "pygments_lexer": "ipython3",
   "version": "3.10.11"
  },
  "orig_nbformat": 4
 },
 "nbformat": 4,
 "nbformat_minor": 2
}
